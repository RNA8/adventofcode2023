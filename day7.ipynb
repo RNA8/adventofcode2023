{
 "cells": [
  {
   "cell_type": "code",
   "execution_count": 1,
   "metadata": {},
   "outputs": [],
   "source": [
    "import os\n",
    "import numpy as np\n",
    "import aocd"
   ]
  },
  {
   "cell_type": "code",
   "execution_count": 2,
   "metadata": {},
   "outputs": [
    {
     "data": {
      "text/plain": [
       "<Puzzle(2023, 7) at 0x7fb1a89dd3d0 - Camel Cards>"
      ]
     },
     "execution_count": 2,
     "metadata": {},
     "output_type": "execute_result"
    }
   ],
   "source": [
    "current_day = 7\n",
    "current_year = 2023\n",
    "puzzle = aocd.models.Puzzle(year=current_year, day=current_day)\n",
    "puzzle"
   ]
  },
  {
   "cell_type": "markdown",
   "metadata": {},
   "source": [
    "# Part A"
   ]
  },
  {
   "cell_type": "markdown",
   "metadata": {},
   "source": [
    "### Test data"
   ]
  },
  {
   "cell_type": "code",
   "execution_count": 3,
   "metadata": {},
   "outputs": [],
   "source": [
    "from collections import Counter\n",
    "\n",
    "card_values = {\"A\": 14, \"K\": 13, \"Q\": 12, \"J\": 11, \"T\": 10, \"9\": 9, \"8\": 8, \"7\": 7, \"6\": 6, \"5\": 5, \"4\": 4, \"3\": 3, \"2\": 2}\n",
    "possible_values_for_wild_card = list(card_values.keys())\n",
    "card_values[\"X\"] = 1\n",
    "\n",
    "class Card:\n",
    "    def __init__(self, char):\n",
    "        self.char = char\n",
    "        self.value = card_values[char]\n",
    "\n",
    "    def __repr__(self):\n",
    "        return self.char\n",
    "    \n",
    "    def __gt__(self, other):\n",
    "        return self.value > other.value\n",
    "    \n",
    "    def __lt__(self, other):\n",
    "        return self.value < other.value\n",
    "    \n",
    "    def __eq__(self, other):\n",
    "        return self.value == other.value\n",
    "\n",
    "\n",
    "def get_hand_type(hist):\n",
    "    if len(hist) == 1:\n",
    "        hand_type = 7 # Five of a kind\n",
    "    elif len(hist) == 2 and max(hist.values()) == 4:\n",
    "        hand_type = 6 # Four of a kind\n",
    "    elif len(hist) == 2 and max(hist.values()) == 3:\n",
    "        hand_type = 5 # Full house\n",
    "    elif len(hist) == 3 and max(hist.values()) == 3:\n",
    "        hand_type = 4 # Three of a kind\n",
    "    elif len(hist) == 3 and max(hist.values()) == 2:\n",
    "        hand_type = 3 # Two pair\n",
    "    elif len(hist) == 4 and max(hist.values()) == 2:\n",
    "        hand_type = 2 # One pair\n",
    "    else:\n",
    "        hand_type = 1 # High card\n",
    "    return hand_type\n",
    "\n",
    "\n",
    "class Hand:\n",
    "    def __init__(self, string):\n",
    "        self.raw_cards, self.bid = string.split()\n",
    "        self.hist = Counter(self.raw_cards)\n",
    "        self.cards = [Card(c) for c in self.raw_cards]\n",
    "        self.bid = int(self.bid)\n",
    "        if \"X\" in string:\n",
    "            self.get_hand_type_wild()\n",
    "        else:\n",
    "            self.get_hand_type()\n",
    "\n",
    "\n",
    "    def get_hand_type(self): # simple version\n",
    "        self.hand_type = get_hand_type(self.hist)\n",
    "\n",
    "\n",
    "    def get_hand_type_wild(self): # with wild card\n",
    "        if self.hist[\"X\"] == 5:\n",
    "            self.hand_type = 7 # Five of a kind\n",
    "        elif self.hist[\"X\"] == 4:\n",
    "            self.hand_type = 7 # Five of a kind\n",
    "        elif self.hist[\"X\"] == 3:\n",
    "            # if the other two cards are the same, it's a five of a kind\n",
    "            if len(self.hist) == 2:\n",
    "                self.hand_type = 7\n",
    "            else:\n",
    "                self.hand_type = 6  # Four of a kind\n",
    "        elif self.hist[\"X\"] == 2:\n",
    "            remaining_cards = self.raw_cards.replace(\"X\", \"\")\n",
    "            # try all possible values for the 2 wild cards\n",
    "            self.hand_type = max(get_hand_type(Counter(remaining_cards + new_card1 + new_card2))\n",
    "                                 for new_card1 in possible_values_for_wild_card\n",
    "                                 for new_card2 in possible_values_for_wild_card)\n",
    "        elif self.hist[\"X\"] == 1:\n",
    "            remaining_cards = self.raw_cards.replace(\"X\", \"\")\n",
    "            # try all possible values for the wild card\n",
    "            self.hand_type = max(get_hand_type(Counter(remaining_cards + new_card))\n",
    "                                 for new_card in possible_values_for_wild_card)\n",
    "        else:\n",
    "            self.hand_type = get_hand_type(self.hist)\n",
    "\n",
    "\n",
    "    # check if one Hand is greater than another\n",
    "    def __gt__(self, other):\n",
    "        if self.hand_type > other.hand_type:\n",
    "            return True\n",
    "        elif self.hand_type == other.hand_type and self.cards > other.cards:\n",
    "            return True\n",
    "        else:\n",
    "            return False\n",
    "        \n",
    "    # check if one Hand is less than another\n",
    "    def __lt__(self, other):\n",
    "        if self.hand_type < other.hand_type:\n",
    "            return True\n",
    "        elif self.hand_type == other.hand_type and self.cards < other.cards:\n",
    "            return True\n",
    "        else:\n",
    "            return False\n",
    "        \n",
    "\n",
    "    def __repr__(self):\n",
    "        return f\"{self.cards} {self.bid} {self.hand_type}\"\n",
    "    \n",
    "        "
   ]
  },
  {
   "cell_type": "code",
   "execution_count": 4,
   "metadata": {},
   "outputs": [
    {
     "name": "stdout",
     "output_type": "stream",
     "text": [
      "Result for test data = 6440\n"
     ]
    }
   ],
   "source": [
    "test_data = \"\"\"32T3K 765\n",
    "T55J5 684\n",
    "KK677 28\n",
    "KTJJT 220\n",
    "QQQJA 483\"\"\"\n",
    "\n",
    "hands = [Hand(line) for line in test_data.splitlines()]\n",
    "result = sum((rank+1) * hand.bid for rank, hand in enumerate(sorted(hands)))\n",
    "print(f\"Result for test data = {result}\")\n"
   ]
  },
  {
   "cell_type": "markdown",
   "metadata": {},
   "source": [
    "### Input data"
   ]
  },
  {
   "cell_type": "code",
   "execution_count": 5,
   "metadata": {},
   "outputs": [
    {
     "name": "stdout",
     "output_type": "stream",
     "text": [
      "Result for input data = 249390788\n"
     ]
    }
   ],
   "source": [
    "hands = [Hand(line) for line in puzzle.input_data.splitlines()]\n",
    "result = sum((rank+1) * hand.bid for rank, hand in enumerate(sorted(hands)))\n",
    "print(f\"Result for input data = {result}\")"
   ]
  },
  {
   "cell_type": "code",
   "execution_count": 6,
   "metadata": {},
   "outputs": [],
   "source": [
    "puzzle.answer_a = result"
   ]
  },
  {
   "cell_type": "markdown",
   "metadata": {},
   "source": [
    "# Part B"
   ]
  },
  {
   "cell_type": "markdown",
   "metadata": {},
   "source": [
    "### Test data"
   ]
  },
  {
   "cell_type": "code",
   "execution_count": 7,
   "metadata": {},
   "outputs": [
    {
     "name": "stdout",
     "output_type": "stream",
     "text": [
      "Result for test data = 5905\n"
     ]
    }
   ],
   "source": [
    "# Jacks are wild\n",
    "hands = [Hand(line) for line in test_data.replace(\"J\", \"X\").splitlines()]\n",
    "result = sum((rank+1) * hand.bid for rank, hand in enumerate(sorted(hands)))\n",
    "print(f\"Result for test data = {result}\")"
   ]
  },
  {
   "cell_type": "markdown",
   "metadata": {},
   "source": [
    "### Input data"
   ]
  },
  {
   "cell_type": "code",
   "execution_count": 8,
   "metadata": {},
   "outputs": [
    {
     "name": "stdout",
     "output_type": "stream",
     "text": [
      "Result for input data = 248750248\n"
     ]
    }
   ],
   "source": [
    "# Jacks are wild\n",
    "hands = [Hand(line) for line in puzzle.input_data.replace(\"J\", \"X\").splitlines()]\n",
    "result = sum((rank+1) * hand.bid for rank, hand in enumerate(sorted(hands)))\n",
    "print(f\"Result for input data = {result}\")"
   ]
  },
  {
   "cell_type": "code",
   "execution_count": 9,
   "metadata": {},
   "outputs": [],
   "source": [
    "puzzle.answer_b = result"
   ]
  },
  {
   "cell_type": "code",
   "execution_count": null,
   "metadata": {},
   "outputs": [],
   "source": []
  }
 ],
 "metadata": {
  "kernelspec": {
   "display_name": "aoc2023",
   "language": "python",
   "name": "aoc2023"
  },
  "language_info": {
   "codemirror_mode": {
    "name": "ipython",
    "version": 3
   },
   "file_extension": ".py",
   "mimetype": "text/x-python",
   "name": "python",
   "nbconvert_exporter": "python",
   "pygments_lexer": "ipython3",
   "version": "3.9.13"
  }
 },
 "nbformat": 4,
 "nbformat_minor": 2
}
