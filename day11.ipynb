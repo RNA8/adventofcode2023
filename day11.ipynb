{
 "cells": [
  {
   "cell_type": "code",
   "execution_count": 1,
   "metadata": {},
   "outputs": [],
   "source": [
    "import os\n",
    "import numpy as np\n",
    "import aocd"
   ]
  },
  {
   "cell_type": "code",
   "execution_count": 2,
   "metadata": {},
   "outputs": [
    {
     "data": {
      "text/plain": [
       "<Puzzle(2023, 11) at 0x7ff068734fa0 - Cosmic Expansion>"
      ]
     },
     "execution_count": 2,
     "metadata": {},
     "output_type": "execute_result"
    }
   ],
   "source": [
    "current_day = 11\n",
    "current_year = 2023\n",
    "puzzle = aocd.models.Puzzle(year=current_year, day=current_day)\n",
    "puzzle"
   ]
  },
  {
   "cell_type": "markdown",
   "metadata": {},
   "source": [
    "# Part A"
   ]
  },
  {
   "cell_type": "markdown",
   "metadata": {},
   "source": [
    "### Test data"
   ]
  },
  {
   "cell_type": "code",
   "execution_count": 3,
   "metadata": {},
   "outputs": [],
   "source": [
    "class Universe():\n",
    "    def __init__(self, input_data):\n",
    "        self.grid = [list(line) for line in input_data.splitlines()]\n",
    "        self.num_rows = len(self.grid)\n",
    "        self.num_cols = len(self.grid[0])\n",
    "        self.has_expanded = False\n",
    "        self.find_galaxies()\n",
    "\n",
    "    def __repr__(self):\n",
    "        return '\\n'.join([''.join(line) for line in self.grid])\n",
    "    \n",
    "    def find_galaxies(self):\n",
    "        self.galaxy_rows = set()\n",
    "        self.galaxy_cols = set()\n",
    "        self.galaxy_locations = set()\n",
    "        for row in range(self.num_rows):\n",
    "            for col in range(self.num_cols):\n",
    "                if self.grid[row][col] == '#':\n",
    "                    self.galaxy_rows.add(row)\n",
    "                    self.galaxy_cols.add(col)\n",
    "                    self.galaxy_locations.add((row, col))\n",
    "\n",
    "    def expand_universe(self):\n",
    "        if self.has_expanded:\n",
    "            print(\"Universe has already been expanded\")\n",
    "            return\n",
    "\n",
    "        row_idx = []\n",
    "        for row_num in range(self.num_rows):\n",
    "            row_idx.append(row_num)\n",
    "            if row_num not in self.galaxy_rows: # append one more time\n",
    "                row_idx.append(row_num)\n",
    "        col_idx = []\n",
    "        for col_num in range(self.num_cols):\n",
    "            col_idx.append(col_num)\n",
    "            if col_num not in self.galaxy_cols: # append one more time\n",
    "                col_idx.append(col_num)\n",
    "        # print(f\"{row_idx=}\")\n",
    "        # print(f\"{col_idx=}\")\n",
    "\n",
    "        new_grid = []\n",
    "        for new_row_num, old_row_num in enumerate(row_idx):\n",
    "            new_row = [self.grid[old_row_num][old_col_num]\n",
    "                    for new_col_num, old_col_num in enumerate(col_idx)]\n",
    "            new_grid.append(new_row)\n",
    "        self.has_expanded = True\n",
    "        self.grid = new_grid\n",
    "        self.num_rows = len(self.grid)\n",
    "        self.num_cols = len(self.grid[0])\n",
    "        self.find_galaxies()\n",
    "        return\n",
    "\n",
    "    def find_shortest_path_between_galaxies(self, row1, col1, row2, col2):\n",
    "        return abs(row1 - row2) + abs(col1 - col2)\n",
    "\n",
    "    def find_all_pairs_shortest_paths(self):\n",
    "        from itertools import combinations\n",
    "        sum_shortest_paths = 0\n",
    "        for (row1, col1), (row2, col2) in combinations(self.galaxy_locations, 2):\n",
    "            dist = self.find_shortest_path_between_galaxies(row1, col1, row2, col2)\n",
    "            # print(f\"Shortest path distance between {(row1, col1)} and {(row2, col2)} = {dist}\")\n",
    "            sum_shortest_paths += dist\n",
    "        return sum_shortest_paths"
   ]
  },
  {
   "cell_type": "code",
   "execution_count": 4,
   "metadata": {},
   "outputs": [],
   "source": [
    "class EfficientUniverse():\n",
    "    def __init__(self, input_data):\n",
    "        self.grid = [list(line) for line in input_data.splitlines()]\n",
    "        self.num_rows = len(self.grid)\n",
    "        self.num_cols = len(self.grid[0])\n",
    "        self.find_galaxies()\n",
    "\n",
    "    def __repr__(self):\n",
    "        return '\\n'.join([''.join(line) for line in self.grid])\n",
    "    \n",
    "    def find_galaxies(self):\n",
    "        self.galaxy_rows = set()\n",
    "        self.galaxy_cols = set()\n",
    "        self.galaxy_locations = set()\n",
    "        for row in range(self.num_rows):\n",
    "            for col in range(self.num_cols):\n",
    "                if self.grid[row][col] == '#':\n",
    "                    self.galaxy_rows.add(row)\n",
    "                    self.galaxy_cols.add(col)\n",
    "                    self.galaxy_locations.add((row, col))\n",
    "\n",
    "\n",
    "    def find_shortest_path_between_galaxies(self, row1, col1, row2, col2, expansion_factor=2):\n",
    "        if row1 > row2:\n",
    "            row1, row2 = row2, row1\n",
    "        if col1 > col2:\n",
    "            col1, col2 = col2, col1\n",
    "        distance = 0\n",
    "        for row in range(row1, row2):\n",
    "            if row in self.galaxy_rows:\n",
    "                distance += 1\n",
    "            else:\n",
    "                distance += expansion_factor\n",
    "        for col in range(col1, col2):\n",
    "            if col in self.galaxy_cols:\n",
    "                distance += 1\n",
    "            else:\n",
    "                distance += expansion_factor\n",
    "        return distance\n",
    "\n",
    "    def find_all_pairs_shortest_paths(self, expansion_factor=2):\n",
    "        from itertools import combinations\n",
    "        sum_shortest_paths = 0\n",
    "        for (row1, col1), (row2, col2) in combinations(self.galaxy_locations, 2):\n",
    "            dist = self.find_shortest_path_between_galaxies(row1, col1, row2, col2, expansion_factor=expansion_factor)\n",
    "            # print(f\"Shortest path distance between {(row1, col1)} and {(row2, col2)} = {dist}\")\n",
    "            sum_shortest_paths += dist\n",
    "        return sum_shortest_paths"
   ]
  },
  {
   "cell_type": "code",
   "execution_count": 5,
   "metadata": {},
   "outputs": [
    {
     "name": "stdout",
     "output_type": "stream",
     "text": [
      "Result for test data = 374\n"
     ]
    }
   ],
   "source": [
    "test_data = \"\"\"...#......\n",
    ".......#..\n",
    "#.........\n",
    "..........\n",
    "......#...\n",
    ".#........\n",
    ".........#\n",
    "..........\n",
    ".......#..\n",
    "#...#.....\"\"\"\n",
    "uni = EfficientUniverse(test_data)\n",
    "result = uni.find_all_pairs_shortest_paths()\n",
    "print(f\"Result for test data = {result}\")"
   ]
  },
  {
   "cell_type": "markdown",
   "metadata": {},
   "source": [
    "### Input data"
   ]
  },
  {
   "cell_type": "code",
   "execution_count": 6,
   "metadata": {},
   "outputs": [
    {
     "name": "stdout",
     "output_type": "stream",
     "text": [
      "Result for input data = 9795148\n"
     ]
    }
   ],
   "source": [
    "uni = EfficientUniverse(puzzle.input_data)\n",
    "result = uni.find_all_pairs_shortest_paths()\n",
    "print(f\"Result for input data = {result}\")"
   ]
  },
  {
   "cell_type": "code",
   "execution_count": 7,
   "metadata": {},
   "outputs": [],
   "source": [
    "puzzle.answer_a = result"
   ]
  },
  {
   "cell_type": "markdown",
   "metadata": {},
   "source": [
    "# Part B"
   ]
  },
  {
   "cell_type": "markdown",
   "metadata": {},
   "source": [
    "### Test data"
   ]
  },
  {
   "cell_type": "code",
   "execution_count": 8,
   "metadata": {},
   "outputs": [
    {
     "name": "stdout",
     "output_type": "stream",
     "text": [
      "Result for test data = 1030\n",
      "Result for test data = 8410\n"
     ]
    }
   ],
   "source": [
    "uni = EfficientUniverse(test_data)\n",
    "result = uni.find_all_pairs_shortest_paths(expansion_factor=10)\n",
    "print(f\"Result for test data = {result}\")\n",
    "result = uni.find_all_pairs_shortest_paths(expansion_factor=100)\n",
    "print(f\"Result for test data = {result}\")"
   ]
  },
  {
   "cell_type": "markdown",
   "metadata": {},
   "source": [
    "### Input data"
   ]
  },
  {
   "cell_type": "code",
   "execution_count": 9,
   "metadata": {},
   "outputs": [
    {
     "name": "stdout",
     "output_type": "stream",
     "text": [
      "Result for input data = 650672493820\n"
     ]
    }
   ],
   "source": [
    "uni = EfficientUniverse(puzzle.input_data)\n",
    "result = uni.find_all_pairs_shortest_paths(expansion_factor=1_000_000)\n",
    "print(f\"Result for input data = {result}\")"
   ]
  },
  {
   "cell_type": "code",
   "execution_count": 10,
   "metadata": {},
   "outputs": [],
   "source": [
    "puzzle.answer_b = result"
   ]
  },
  {
   "cell_type": "code",
   "execution_count": null,
   "metadata": {},
   "outputs": [],
   "source": []
  }
 ],
 "metadata": {
  "kernelspec": {
   "display_name": "aoc2023",
   "language": "python",
   "name": "aoc2023"
  },
  "language_info": {
   "codemirror_mode": {
    "name": "ipython",
    "version": 3
   },
   "file_extension": ".py",
   "mimetype": "text/x-python",
   "name": "python",
   "nbconvert_exporter": "python",
   "pygments_lexer": "ipython3",
   "version": "3.9.13"
  }
 },
 "nbformat": 4,
 "nbformat_minor": 2
}
