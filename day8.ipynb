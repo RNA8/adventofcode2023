{
 "cells": [
  {
   "cell_type": "code",
   "execution_count": 1,
   "metadata": {},
   "outputs": [],
   "source": [
    "import os\n",
    "import numpy as np\n",
    "import aocd"
   ]
  },
  {
   "cell_type": "code",
   "execution_count": 2,
   "metadata": {},
   "outputs": [
    {
     "data": {
      "text/plain": [
       "<Puzzle(2023, 8) at 0x7face82f6c40 - Haunted Wasteland>"
      ]
     },
     "execution_count": 2,
     "metadata": {},
     "output_type": "execute_result"
    }
   ],
   "source": [
    "current_day = 8\n",
    "current_year = 2023\n",
    "puzzle = aocd.models.Puzzle(year=current_year, day=current_day)\n",
    "puzzle"
   ]
  },
  {
   "cell_type": "markdown",
   "metadata": {},
   "source": [
    "# Part A"
   ]
  },
  {
   "cell_type": "markdown",
   "metadata": {},
   "source": [
    "### Test data"
   ]
  },
  {
   "cell_type": "code",
   "execution_count": 3,
   "metadata": {},
   "outputs": [],
   "source": [
    "import re\n",
    "\n",
    "def parse_data(lines):\n",
    "    if not isinstance(lines, list):\n",
    "        lines = lines.splitlines()\n",
    "    directions = lines[0]\n",
    "    graph = {}\n",
    "    for line in lines[2:]:\n",
    "        # parse the string \"AAA = (BBB, CCC)\" into a dict\n",
    "        curr, left, right = re.findall(r\"[\\w']+\", line)\n",
    "        graph[(curr,\"L\")] = left\n",
    "        graph[(curr,\"R\")] = right\n",
    "    return directions, graph\n"
   ]
  },
  {
   "cell_type": "code",
   "execution_count": 4,
   "metadata": {},
   "outputs": [],
   "source": [
    "# loop through directions indefinitely\n",
    "from itertools import cycle\n",
    "def run(directions, graph, start_node=\"AAA\", stop_nodes=set([\"ZZZ\"])):\n",
    "    # start at the root\n",
    "    node = start_node\n",
    "    # keep track of the path\n",
    "    path = []\n",
    "    for direction in cycle(directions):\n",
    "        if node in stop_nodes:\n",
    "            break\n",
    "        # otherwise, follow the path\n",
    "        node = graph[(node, direction)]\n",
    "        path.append(node)\n",
    "    return path\n"
   ]
  },
  {
   "cell_type": "code",
   "execution_count": 5,
   "metadata": {},
   "outputs": [
    {
     "name": "stdout",
     "output_type": "stream",
     "text": [
      "Result for test data = 2\n"
     ]
    }
   ],
   "source": [
    "test_data = \"\"\"RL\n",
    "\n",
    "AAA = (BBB, CCC)\n",
    "BBB = (DDD, EEE)\n",
    "CCC = (ZZZ, GGG)\n",
    "DDD = (DDD, DDD)\n",
    "EEE = (EEE, EEE)\n",
    "GGG = (GGG, GGG)\n",
    "ZZZ = (ZZZ, ZZZ)\"\"\"\n",
    "\n",
    "directions, graph = parse_data(test_data)\n",
    "path = run(directions, graph)\n",
    "result = len(path)\n",
    "print(f\"Result for test data = {result}\")"
   ]
  },
  {
   "cell_type": "markdown",
   "metadata": {},
   "source": [
    "### Input data"
   ]
  },
  {
   "cell_type": "code",
   "execution_count": 6,
   "metadata": {},
   "outputs": [
    {
     "name": "stdout",
     "output_type": "stream",
     "text": [
      "Result for input data = 18727\n"
     ]
    }
   ],
   "source": [
    "directions, graph = parse_data(puzzle.input_data)\n",
    "path = run(directions, graph)\n",
    "result = len(path)\n",
    "\n",
    "print(f\"Result for input data = {result}\")"
   ]
  },
  {
   "cell_type": "code",
   "execution_count": 7,
   "metadata": {},
   "outputs": [],
   "source": [
    "puzzle.answer_a = result"
   ]
  },
  {
   "cell_type": "markdown",
   "metadata": {},
   "source": [
    "# Part B"
   ]
  },
  {
   "cell_type": "code",
   "execution_count": 8,
   "metadata": {},
   "outputs": [],
   "source": [
    "import math\n",
    "from functools import reduce\n",
    "# https://stackoverflow.com/questions/147515/least-common-multiple-for-3-or-more-numbers\n",
    "def lcm(numbers):\n",
    "    return abs(reduce(lambda x, y: x*y // math.gcd(x, y), numbers))\n"
   ]
  },
  {
   "cell_type": "markdown",
   "metadata": {},
   "source": [
    "### Test data"
   ]
  },
  {
   "cell_type": "code",
   "execution_count": 9,
   "metadata": {},
   "outputs": [
    {
     "name": "stdout",
     "output_type": "stream",
     "text": [
      "['11A', '22A'] {'11Z', '22Z'}\n",
      "Result for test data = 6\n"
     ]
    }
   ],
   "source": [
    "test_data = \"\"\"LR\n",
    "\n",
    "11A = (11B, XXX)\n",
    "11B = (XXX, 11Z)\n",
    "11Z = (11B, XXX)\n",
    "22A = (22B, XXX)\n",
    "22B = (22C, 22C)\n",
    "22C = (22Z, 22Z)\n",
    "22Z = (22B, 22B)\n",
    "XXX = (XXX, XXX)\"\"\"\n",
    "\n",
    "\n",
    "nodes = [line.split()[0] for line in test_data.splitlines()[2:]]\n",
    "nodes_A = [node for node in nodes if node.endswith('A')]\n",
    "nodes_Z = set([node for node in nodes if node.endswith('Z')])\n",
    "print(nodes_A, nodes_Z)\n",
    "\n",
    "directions, graph = parse_data(test_data)\n",
    "path_lengths = {}\n",
    "for node in nodes_A:\n",
    "    path_lengths[node] = len(run(directions, graph, node, stop_nodes=nodes_Z))\n",
    "\n",
    "result = lcm(path_lengths.values())\n",
    "\n",
    "\n",
    "print(f\"Result for test data = {result}\")"
   ]
  },
  {
   "cell_type": "markdown",
   "metadata": {},
   "source": [
    "### Input data"
   ]
  },
  {
   "cell_type": "code",
   "execution_count": 10,
   "metadata": {},
   "outputs": [
    {
     "name": "stdout",
     "output_type": "stream",
     "text": [
      "['GQA', 'AAA', 'XCA', 'HBA', 'GVA', 'NVA'] {'ZZZ', 'HVZ', 'LLZ', 'TKZ', 'JLZ', 'KJZ'}\n",
      "Result for input data = 18024643846273\n"
     ]
    }
   ],
   "source": [
    "nodes = [line.split()[0] for line in puzzle.input_data.splitlines()[2:]]\n",
    "nodes_A = [node for node in nodes if node.endswith('A')]\n",
    "nodes_Z = set([node for node in nodes if node.endswith('Z')])\n",
    "print(nodes_A, nodes_Z)\n",
    "\n",
    "directions, graph = parse_data(puzzle.input_data)\n",
    "path_lengths = {}\n",
    "for node in nodes_A:\n",
    "    path_lengths[node] = len(run(directions, graph, node, stop_nodes=nodes_Z))\n",
    "\n",
    "result = lcm(path_lengths.values())\n",
    "\n",
    "print(f\"Result for input data = {result}\")"
   ]
  },
  {
   "cell_type": "code",
   "execution_count": 11,
   "metadata": {},
   "outputs": [],
   "source": [
    "puzzle.answer_b = result"
   ]
  }
 ],
 "metadata": {
  "kernelspec": {
   "display_name": "aoc2023",
   "language": "python",
   "name": "aoc2023"
  },
  "language_info": {
   "codemirror_mode": {
    "name": "ipython",
    "version": 3
   },
   "file_extension": ".py",
   "mimetype": "text/x-python",
   "name": "python",
   "nbconvert_exporter": "python",
   "pygments_lexer": "ipython3",
   "version": "3.9.13"
  }
 },
 "nbformat": 4,
 "nbformat_minor": 2
}
