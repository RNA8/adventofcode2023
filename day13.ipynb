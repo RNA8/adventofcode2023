{
 "cells": [
  {
   "cell_type": "code",
   "execution_count": 1,
   "metadata": {},
   "outputs": [],
   "source": [
    "import os\n",
    "import numpy as np\n",
    "import aocd"
   ]
  },
  {
   "cell_type": "code",
   "execution_count": 2,
   "metadata": {},
   "outputs": [
    {
     "data": {
      "text/plain": [
       "<Puzzle(2023, 13) at 0x7ff6f8a147f0 - Point of Incidence>"
      ]
     },
     "execution_count": 2,
     "metadata": {},
     "output_type": "execute_result"
    }
   ],
   "source": [
    "current_day = 13\n",
    "current_year = 2023\n",
    "puzzle = aocd.models.Puzzle(year=current_year, day=current_day)\n",
    "puzzle"
   ]
  },
  {
   "cell_type": "markdown",
   "metadata": {},
   "source": [
    "# Part A"
   ]
  },
  {
   "cell_type": "code",
   "execution_count": 3,
   "metadata": {},
   "outputs": [],
   "source": [
    "import numpy as np\n",
    "class Pattern:\n",
    "    def __init__(self, string):\n",
    "        self.grid = np.array([list(line) for line in string.splitlines()])\n",
    "        self.num_rows, self.num_cols = len(self.grid), len(self.grid[0])\n",
    "        self.grid_transpose = self.grid.T\n",
    "\n",
    "\n",
    "    def __repr__(self) -> str:\n",
    "        return \"\\n\".join(\"\".join(row) for row in self.grid.tolist())\n",
    "    \n",
    "\n",
    "    def check_symmetry(self, input_grid, diff=0):\n",
    "        \"\"\"\n",
    "        check if pattern is mirrored across a vertical axis\n",
    "        \"\"\"\n",
    "        for i in range(1,len(input_grid)):\n",
    "            # if np.all(input_grid[i] == input_grid[i-1]):\n",
    "            first_half = input_grid[:i][::-1]\n",
    "            second_half = input_grid[i:]\n",
    "            if len(first_half) and len(second_half) and sum(np.sum(cmp_left != cmp_right) \n",
    "                                                            for cmp_left, cmp_right in zip(first_half, second_half))==diff:\n",
    "                # print(f\"Symmetry across row {i} and {i+1}, {first_half.shape}, {second_half.shape}\")\n",
    "                return i\n",
    "        return None\n",
    "        \n",
    "\n",
    "    def check_row_symmetry(self, diff=0, verbose=False):\n",
    "        \"\"\"\n",
    "        check if pattern is mirrored across a vertical axis\n",
    "        \"\"\"\n",
    "        result = self.check_symmetry(self.grid, diff=diff)\n",
    "        if verbose and (result is not None):\n",
    "            print(f\"Symmetry across row {result} and {result+1}\")\n",
    "        return result\n",
    "    \n",
    "    def check_col_symmetry(self, diff=0, verbose=False):\n",
    "        \"\"\"\n",
    "        check if pattern is mirrored across a horizontal axis\n",
    "        \"\"\"\n",
    "        result = self.check_symmetry(self.grid_transpose, diff=diff)\n",
    "        if verbose and (result is not None):\n",
    "            print(f\"Symmetry across col {result} and {result+1}\")\n",
    "        return result\n",
    "\n",
    "    def find_symmetry(self, diff=0):\n",
    "        row_sym = self.check_row_symmetry(diff=diff)\n",
    "        col_sym = self.check_col_symmetry(diff=diff)\n",
    "        if row_sym and not col_sym:\n",
    "            return \"row\", row_sym\n",
    "        elif col_sym and not row_sym:\n",
    "            return \"col\", col_sym\n",
    "        else:\n",
    "            return None\n"
   ]
  },
  {
   "cell_type": "markdown",
   "metadata": {},
   "source": [
    "### Test data"
   ]
  },
  {
   "cell_type": "code",
   "execution_count": 4,
   "metadata": {},
   "outputs": [
    {
     "name": "stdout",
     "output_type": "stream",
     "text": [
      "Result for test data = 405\n"
     ]
    }
   ],
   "source": [
    "test_data = \"\"\"#.##..##.\n",
    "..#.##.#.\n",
    "##......#\n",
    "##......#\n",
    "..#.##.#.\n",
    "..##..##.\n",
    "#.#.##.#.\n",
    "\n",
    "#...##..#\n",
    "#....#..#\n",
    "..##..###\n",
    "#####.##.\n",
    "#####.##.\n",
    "..##..###\n",
    "#....#..#\"\"\"\n",
    "\n",
    "patterns = [Pattern(a) for a in test_data.split('\\n\\n')]\n",
    "total = 0\n",
    "for pattern in patterns:\n",
    "    res = pattern.find_symmetry()\n",
    "    if res is not None:\n",
    "        row_or_col, index = res\n",
    "        # print(f\"Pattern has {row_or_col} symmetry at index {index}\")\n",
    "        total += (100 if row_or_col == \"row\" else 1) * index\n",
    "print(f\"Result for test data = {total}\")"
   ]
  },
  {
   "cell_type": "markdown",
   "metadata": {},
   "source": [
    "### Input data"
   ]
  },
  {
   "cell_type": "code",
   "execution_count": 5,
   "metadata": {},
   "outputs": [
    {
     "name": "stdout",
     "output_type": "stream",
     "text": [
      "Result for input data = 30158\n"
     ]
    }
   ],
   "source": [
    "\n",
    "patterns = [Pattern(a) for a in puzzle.input_data.split('\\n\\n')]\n",
    "total = 0\n",
    "for i, pattern in enumerate(patterns):\n",
    "    res = pattern.find_symmetry()\n",
    "    if res is not None:\n",
    "        row_or_col, index = res\n",
    "        # print(f\"Pattern has {row_or_col} symmetry at index {index}\")\n",
    "        total += (100 if row_or_col == \"row\" else 1) * index\n",
    "    else:\n",
    "        print(f\"Pattern {i} has no symmetry \\n{pattern}\")\n",
    "print(f\"Result for input data = {total}\")"
   ]
  },
  {
   "cell_type": "code",
   "execution_count": 6,
   "metadata": {},
   "outputs": [],
   "source": [
    "puzzle.answer_a = total"
   ]
  },
  {
   "cell_type": "markdown",
   "metadata": {},
   "source": [
    "# Part B"
   ]
  },
  {
   "cell_type": "markdown",
   "metadata": {},
   "source": [
    "### Test data"
   ]
  },
  {
   "cell_type": "code",
   "execution_count": 7,
   "metadata": {},
   "outputs": [
    {
     "name": "stdout",
     "output_type": "stream",
     "text": [
      "Result for test data = 400\n"
     ]
    }
   ],
   "source": [
    "\n",
    "patterns = [Pattern(a) for a in test_data.split('\\n\\n')]\n",
    "total = 0\n",
    "for pattern in patterns:\n",
    "    res = pattern.find_symmetry(diff=1)\n",
    "    if res is not None:\n",
    "        row_or_col, index = res\n",
    "        # print(f\"Pattern has {row_or_col} symmetry at index {index}\")\n",
    "        total += (100 if row_or_col == \"row\" else 1) * index\n",
    "print(f\"Result for test data = {total}\")"
   ]
  },
  {
   "cell_type": "markdown",
   "metadata": {},
   "source": [
    "### Input data"
   ]
  },
  {
   "cell_type": "code",
   "execution_count": 8,
   "metadata": {},
   "outputs": [
    {
     "name": "stdout",
     "output_type": "stream",
     "text": [
      "Result for input data = 36474\n"
     ]
    }
   ],
   "source": [
    "patterns = [Pattern(a) for a in puzzle.input_data.split('\\n\\n')]\n",
    "total = 0\n",
    "for i, pattern in enumerate(patterns):\n",
    "    res = pattern.find_symmetry(diff=1)\n",
    "    if res is not None:\n",
    "        row_or_col, index = res\n",
    "        # print(f\"Pattern has {row_or_col} symmetry at index {index}\")\n",
    "        total += (100 if row_or_col == \"row\" else 1) * index\n",
    "    else:\n",
    "        print(f\"Pattern {i} has no symmetry \\n{pattern}\")\n",
    "print(f\"Result for input data = {total}\")"
   ]
  },
  {
   "cell_type": "code",
   "execution_count": 9,
   "metadata": {},
   "outputs": [],
   "source": [
    "puzzle.answer_b = total"
   ]
  }
 ],
 "metadata": {
  "kernelspec": {
   "display_name": "aoc2023",
   "language": "python",
   "name": "aoc2023"
  },
  "language_info": {
   "codemirror_mode": {
    "name": "ipython",
    "version": 3
   },
   "file_extension": ".py",
   "mimetype": "text/x-python",
   "name": "python",
   "nbconvert_exporter": "python",
   "pygments_lexer": "ipython3",
   "version": "3.9.13"
  }
 },
 "nbformat": 4,
 "nbformat_minor": 2
}
