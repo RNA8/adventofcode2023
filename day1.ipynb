{
 "cells": [
  {
   "cell_type": "code",
   "execution_count": 1,
   "metadata": {},
   "outputs": [],
   "source": [
    "import os\n",
    "import numpy as np\n",
    "import aocd\n",
    "from aocd.models import Puzzle\n",
    "from aocd import submit"
   ]
  },
  {
   "cell_type": "code",
   "execution_count": 2,
   "metadata": {},
   "outputs": [
    {
     "data": {
      "text/plain": [
       "<Puzzle(2023, 1) at 0x7fa43058b6a0 - Trebuchet?!>"
      ]
     },
     "execution_count": 2,
     "metadata": {},
     "output_type": "execute_result"
    }
   ],
   "source": [
    "current_day = 1\n",
    "current_year = 2023\n",
    "puzzle = Puzzle(year=current_year, day=current_day)\n",
    "puzzle"
   ]
  },
  {
   "cell_type": "markdown",
   "metadata": {},
   "source": [
    "# Part A"
   ]
  },
  {
   "cell_type": "code",
   "execution_count": 3,
   "metadata": {},
   "outputs": [],
   "source": [
    "test_data = \"\"\"1abc2\n",
    "pqr3stu8vwx\n",
    "a1b2c3d4e5f\n",
    "treb7uchet\"\"\""
   ]
  },
  {
   "cell_type": "code",
   "execution_count": 4,
   "metadata": {},
   "outputs": [],
   "source": [
    "# regular expression to get the digits\n",
    "import re\n",
    "pattern = re.compile(r\"(\\d+)\")\n"
   ]
  },
  {
   "cell_type": "code",
   "execution_count": 5,
   "metadata": {},
   "outputs": [
    {
     "name": "stdout",
     "output_type": "stream",
     "text": [
      "Result for test data = 142\n"
     ]
    }
   ],
   "source": [
    "\n",
    "total = 0\n",
    "for line in test_data.splitlines():\n",
    "    digits = ''.join(pattern.findall(line))\n",
    "    # print(digits)\n",
    "    total += int(digits[0] + digits[-1])\n",
    "print(f\"Result for test data = {total}\")\n"
   ]
  },
  {
   "cell_type": "code",
   "execution_count": 6,
   "metadata": {},
   "outputs": [
    {
     "name": "stdout",
     "output_type": "stream",
     "text": [
      "Result for input data = 55607\n"
     ]
    }
   ],
   "source": [
    "\n",
    "total = 0\n",
    "for line in puzzle.input_data.splitlines():\n",
    "    digits = ''.join(pattern.findall(line))\n",
    "    # print(digits)\n",
    "    total += int(digits[0] + digits[-1])\n",
    "print(f\"Result for input data = {total}\")"
   ]
  },
  {
   "cell_type": "code",
   "execution_count": 7,
   "metadata": {},
   "outputs": [],
   "source": [
    "puzzle.answer_a = total"
   ]
  },
  {
   "cell_type": "markdown",
   "metadata": {},
   "source": [
    "# Part B"
   ]
  },
  {
   "cell_type": "code",
   "execution_count": 8,
   "metadata": {},
   "outputs": [],
   "source": [
    "test_data = \"\"\"two1nine\n",
    "eightwothree\n",
    "abcone2threexyz\n",
    "xtwone3four\n",
    "4nineeightseven2\n",
    "zoneight234\n",
    "7pqrstsixteen\"\"\""
   ]
  },
  {
   "cell_type": "code",
   "execution_count": 9,
   "metadata": {},
   "outputs": [],
   "source": [
    "from collections import defaultdict\n",
    "digits = ['one','two','three','four','five','six','seven','eight','nine']\n",
    "numerals = ['1','2','3','4','5','6','7','8','9']\n",
    "patterns = [re.compile(digit) for digit in digits] + [re.compile(numeral) for numeral in numerals]\n"
   ]
  },
  {
   "cell_type": "code",
   "execution_count": 10,
   "metadata": {},
   "outputs": [
    {
     "name": "stdout",
     "output_type": "stream",
     "text": [
      "Result for test data = 281\n"
     ]
    }
   ],
   "source": [
    "\n",
    "total = 0\n",
    "for line in test_data.splitlines():\n",
    "    line_map = dict()\n",
    "    for pattern in patterns:\n",
    "        matches = pattern.finditer(line)\n",
    "        for match in matches:\n",
    "            if match.end()-match.start() == 1:\n",
    "                line_map[match.start()] = match.string[match.start():match.end()]\n",
    "            else:\n",
    "                line_map[match.start()] = numerals[digits.index(match.string[match.start():match.end()])]\n",
    "    # find minimum and maximum key in dictionary\n",
    "    min_key = min(line_map.keys())\n",
    "    max_key = max(line_map.keys())\n",
    "    total += int(line_map[min_key]+line_map[max_key])\n",
    "print(f\"Result for test data = {total}\")"
   ]
  },
  {
   "cell_type": "code",
   "execution_count": 11,
   "metadata": {},
   "outputs": [
    {
     "name": "stdout",
     "output_type": "stream",
     "text": [
      "Result for input data = 55291\n"
     ]
    }
   ],
   "source": [
    "\n",
    "total = 0\n",
    "for line in puzzle.input_data.splitlines():\n",
    "    line_map = dict()\n",
    "    for pattern in patterns:\n",
    "        matches = pattern.finditer(line)\n",
    "        for match in matches:\n",
    "            if match.end()-match.start() == 1:\n",
    "                line_map[match.start()] = match.string[match.start():match.end()]\n",
    "            else:\n",
    "                line_map[match.start()] = numerals[digits.index(match.string[match.start():match.end()])]\n",
    "    # find minimum and maximum key in dictionary\n",
    "    min_key = min(line_map.keys())\n",
    "    max_key = max(line_map.keys())\n",
    "    total += int(line_map[min_key]+line_map[max_key])\n",
    "print(f\"Result for input data = {total}\")"
   ]
  },
  {
   "cell_type": "code",
   "execution_count": 12,
   "metadata": {},
   "outputs": [],
   "source": [
    "puzzle.answer_b = total"
   ]
  },
  {
   "cell_type": "code",
   "execution_count": null,
   "metadata": {},
   "outputs": [],
   "source": []
  }
 ],
 "metadata": {
  "kernelspec": {
   "display_name": "aoc2023",
   "language": "python",
   "name": "aoc2023"
  },
  "language_info": {
   "codemirror_mode": {
    "name": "ipython",
    "version": 3
   },
   "file_extension": ".py",
   "mimetype": "text/x-python",
   "name": "python",
   "nbconvert_exporter": "python",
   "pygments_lexer": "ipython3",
   "version": "3.9.13"
  }
 },
 "nbformat": 4,
 "nbformat_minor": 2
}
