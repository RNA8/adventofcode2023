{
 "cells": [
  {
   "cell_type": "code",
   "execution_count": 1,
   "metadata": {},
   "outputs": [],
   "source": [
    "import os\n",
    "import numpy as np\n",
    "import aocd"
   ]
  },
  {
   "cell_type": "code",
   "execution_count": 2,
   "metadata": {},
   "outputs": [
    {
     "data": {
      "text/plain": [
       "<Puzzle(2023, 6) at 0x7fa9b0a4e070 - Wait For It>"
      ]
     },
     "execution_count": 2,
     "metadata": {},
     "output_type": "execute_result"
    }
   ],
   "source": [
    "current_day = 6\n",
    "current_year = 2023\n",
    "puzzle = aocd.models.Puzzle(year=current_year, day=current_day)\n",
    "puzzle"
   ]
  },
  {
   "cell_type": "markdown",
   "metadata": {},
   "source": [
    "# Part A"
   ]
  },
  {
   "cell_type": "markdown",
   "metadata": {},
   "source": [
    "### Test data"
   ]
  },
  {
   "cell_type": "code",
   "execution_count": 3,
   "metadata": {},
   "outputs": [
    {
     "name": "stdout",
     "output_type": "stream",
     "text": [
      "Result for test data = 288\n"
     ]
    }
   ],
   "source": [
    "def parse_inputs(data, use_spaces=True):\n",
    "    time, distance = data.splitlines()\n",
    "    if use_spaces:\n",
    "        time = [int(x) for x in time.split()[1:]]\n",
    "        distance = [int(x) for x in distance.split()[1:]]\n",
    "    else:\n",
    "        time = int(time.split(':')[1].strip().replace(' ', ''))\n",
    "        distance = int(distance.split(':')[1].strip().replace(' ', ''))\n",
    "    return time, distance\n",
    "\n",
    "test_data = \"\"\"Time:      7  15   30\n",
    "Distance:  9  40  200\"\"\"\n",
    "\n",
    "time, distance = parse_inputs(test_data)\n",
    "\n",
    "# if total race time is T, and you hold the button for n seconds, \n",
    "# then you will get n*(T-n) points.\n",
    "total_ways_to_win = 1\n",
    "for t, d in zip(time, distance):\n",
    "    num_ways_to_win = sum(1 for n in range(1, t) \n",
    "                          if n*(t-n) > d)\n",
    "    total_ways_to_win *= num_ways_to_win\n",
    "result = total_ways_to_win\n",
    "print(f\"Result for test data = {result}\")\n"
   ]
  },
  {
   "cell_type": "markdown",
   "metadata": {},
   "source": [
    "### Input data"
   ]
  },
  {
   "cell_type": "code",
   "execution_count": 4,
   "metadata": {},
   "outputs": [
    {
     "name": "stdout",
     "output_type": "stream",
     "text": [
      "Result for input data = 1084752\n"
     ]
    }
   ],
   "source": [
    "\n",
    "time, distance = parse_inputs(puzzle.input_data)\n",
    "total_ways_to_win = 1\n",
    "for t, d in zip(time, distance):\n",
    "    num_ways_to_win = sum(1 for n in range(1, t) \n",
    "                          if n*(t-n) > d)\n",
    "    total_ways_to_win *= num_ways_to_win\n",
    "result = total_ways_to_win\n",
    "print(f\"Result for input data = {result}\")\n",
    "puzzle.answer_a = result"
   ]
  },
  {
   "cell_type": "markdown",
   "metadata": {},
   "source": [
    "# Part B"
   ]
  },
  {
   "cell_type": "markdown",
   "metadata": {},
   "source": [
    "### Test data"
   ]
  },
  {
   "cell_type": "code",
   "execution_count": 5,
   "metadata": {},
   "outputs": [
    {
     "name": "stdout",
     "output_type": "stream",
     "text": [
      "Result for test data = 71503\n"
     ]
    }
   ],
   "source": [
    "time, distance = parse_inputs(test_data, use_spaces=False)\n",
    "# n*(t-n) > d\n",
    "# n*t - n**2 > d\n",
    "# n**2 - n*t + d < 0\n",
    "# n = (t +/- sqrt(t**2 - 4*d)) / 2\n",
    "n1 = (time + np.sqrt(time**2 - 4*distance)) / 2\n",
    "n2 = (time - np.sqrt(time**2 - 4*distance)) / 2\n",
    "result = int(n2 - n1 if n1 < n2 else n1 - n2)\n",
    "print(f\"Result for test data = {result}\")"
   ]
  },
  {
   "cell_type": "markdown",
   "metadata": {},
   "source": [
    "### Input data"
   ]
  },
  {
   "cell_type": "code",
   "execution_count": 6,
   "metadata": {},
   "outputs": [
    {
     "name": "stdout",
     "output_type": "stream",
     "text": [
      "Result for input data = 28228952\n"
     ]
    }
   ],
   "source": [
    "time, distance = parse_inputs(puzzle.input_data, use_spaces=False)\n",
    "# n*(t-n) > d\n",
    "# n*t - n**2 > d\n",
    "# n**2 - n*t + d < 0\n",
    "# n = (t +/- sqrt(t**2 - 4*d)) / 2\n",
    "n1 = (time + np.sqrt(time**2 - 4*distance)) / 2\n",
    "n2 = (time - np.sqrt(time**2 - 4*distance)) / 2\n",
    "result = int(n2 - n1 if n1 < n2 else n1 - n2)\n",
    "print(f\"Result for input data = {result}\")\n",
    "puzzle.answer_b = result\n"
   ]
  }
 ],
 "metadata": {
  "kernelspec": {
   "display_name": "aoc2023",
   "language": "python",
   "name": "aoc2023"
  },
  "language_info": {
   "codemirror_mode": {
    "name": "ipython",
    "version": 3
   },
   "file_extension": ".py",
   "mimetype": "text/x-python",
   "name": "python",
   "nbconvert_exporter": "python",
   "pygments_lexer": "ipython3",
   "version": "3.9.13"
  }
 },
 "nbformat": 4,
 "nbformat_minor": 2
}
